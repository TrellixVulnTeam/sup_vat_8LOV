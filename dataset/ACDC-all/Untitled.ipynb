{
 "cells": [
  {
   "cell_type": "code",
   "execution_count": 4,
   "metadata": {},
   "outputs": [],
   "source": [
    "from pathlib2 import Path\n",
    "import os"
   ]
  },
  {
   "cell_type": "code",
   "execution_count": 31,
   "metadata": {},
   "outputs": [
    {
     "name": "stdout",
     "output_type": "stream",
     "text": [
      "175\n",
      "99\n"
     ]
    }
   ],
   "source": [
    "training_list = [ x for x in  os.listdir('train/gt') if x.find('png')>0]\n",
    "patient_list = [x[:13] for x in training_list]\n",
    "set(patient_list)\n",
    "\n",
    "print(set(patient_list).__len__())\n",
    "patient_id_train =[x[:10] for x in training_list]\n",
    "patient_id_train= set(patient_id_train)\n",
    "print(len(patient_id_train))"
   ]
  },
  {
   "cell_type": "code",
   "execution_count": 32,
   "metadata": {},
   "outputs": [
    {
     "name": "stdout",
     "output_type": "stream",
     "text": [
      "25\n",
      "24\n"
     ]
    }
   ],
   "source": [
    "training_list = [ x for x in  os.listdir('val/gt') if x.find('png')>0]\n",
    "patient_list = [x[:13] for x in training_list]\n",
    "set(patient_list)\n",
    "print(set(patient_list).__len__())\n",
    "patient_id_test =[x[:10] for x in training_list]\n",
    "patient_id_test= set(patient_id_test)\n",
    "print(len(patient_id_test))"
   ]
  },
  {
   "cell_type": "code",
   "execution_count": 34,
   "metadata": {},
   "outputs": [
    {
     "data": {
      "text/plain": [
       "23"
      ]
     },
     "execution_count": 34,
     "metadata": {},
     "output_type": "execute_result"
    }
   ],
   "source": [
    "(patient_id_train & patient_id_test).__len__()"
   ]
  },
  {
   "cell_type": "code",
   "execution_count": null,
   "metadata": {},
   "outputs": [],
   "source": []
  }
 ],
 "metadata": {
  "kernelspec": {
   "display_name": "Python 3",
   "language": "python",
   "name": "python3"
  },
  "language_info": {
   "codemirror_mode": {
    "name": "ipython",
    "version": 3
   },
   "file_extension": ".py",
   "mimetype": "text/x-python",
   "name": "python",
   "nbconvert_exporter": "python",
   "pygments_lexer": "ipython3",
   "version": "3.6.8"
  }
 },
 "nbformat": 4,
 "nbformat_minor": 2
}
